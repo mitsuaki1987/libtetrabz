{
 "cells": [
  {
   "cell_type": "markdown",
   "metadata": {
    "id": "pahorUv9vKeB"
   },
   "source": [
    "# LibTetraBZ tutorial\n",
    "This is tutorial for [LibtetraBZ](https://libtetrabz.osdn.jp/) which is a libraly to perform Brillouin-zone integrals with the optimized tetrahedron method [1].\n",
    "\n",
    "[1] \"Improved tetrahedron method for the Brillouin-zone integration applicable to response functions\", M. Kawamura, Y. Gohda, and S. Tsuneyuki, [Phys. Rev. B 89, 094515](https://journals.aps.org/prb/abstract/10.1103/PhysRevB.89.094515) (2014).\n",
    "\n",
    "## 1, Preparation\n",
    "Before we start this tutorial, the nessesarry packages should be installed.\n",
    "LibTeteraBZ package is installed through the pip command."
   ]
  },
  {
   "cell_type": "code",
   "execution_count": null,
   "metadata": {
    "id": "J2SIkJdsDkU0"
   },
   "outputs": [],
   "source": [
    "!pip install libtetrabz"
   ]
  },
  {
   "cell_type": "markdown",
   "metadata": {
    "id": "dGU3CIgJipXD"
   },
   "source": [
    "## 2, Density of states of free electron\n",
    "Let us start the simplest case, namely the calculation of density of states of free electron system, $\\varepsilon_k = k^2/2$.\n",
    "$$\n",
    "D(\\varepsilon) = \\int d^3 k \\delta(\\epsilon - \\varepsilon_k) = \n",
    "4 \\pi \\int_0^\\infty dk k^2 \\delta \\left(\\epsilon - \\frac{k^2}{2}\\right)\n",
    "=4 \\pi \\sqrt{2 \\varepsilon}.\n",
    "$$\n",
    "As above, we already know the analytical result of $D(\\varepsilon)$.\n",
    "Therefore, it is appropriate to verify the numerical Brillouin-zone integration.\n",
    "\n",
    "### 2.1, Smearing method\n",
    "Since the delta function $\\delta(\\varepsilon)$ has infinity, in the simulation, it is replaced by a smeared function such as the gaussian,\n",
    "$$\n",
    "\\tilde{\\delta}(\\varepsilon)=\\frac{1}{\\sigma \\sqrt{\\pi}}\\exp\\left(-\\frac{\\varepsilon^2}{\\sigma^2}\\right)\n",
    "$$\n"
   ]
  },
  {
   "cell_type": "code",
   "execution_count": null,
   "metadata": {
    "id": "PMHCYZa6Dtkd"
   },
   "outputs": [],
   "source": [
    "import numpy"
   ]
  },
  {
   "cell_type": "markdown",
   "metadata": {},
   "source": [
    "Simulation box of Brillouin zone (must be large enough)"
   ]
  },
  {
   "cell_type": "code",
   "execution_count": null,
   "metadata": {
    "id": "D3sXKMQmsR_E"
   },
   "outputs": [],
   "source": [
    "k_max = 3\n",
    "e_max = k_max**2 * 0.5"
   ]
  },
  {
   "cell_type": "markdown",
   "metadata": {},
   "source": [
    "Reciplocal lattice vector"
   ]
  },
  {
   "cell_type": "code",
   "execution_count": null,
   "metadata": {
    "id": "YTO3AWCNsb36"
   },
   "outputs": [],
   "source": [
    "bvec = 2.0 * numpy.array([[k_max, 0.0, 0.0],\n",
    "                          [0.0, k_max, 0.0],\n",
    "                          [0.0, 0.0, k_max]])"
   ]
  },
  {
   "cell_type": "markdown",
   "metadata": {},
   "source": [
    "$$\n",
    "\\varepsilon_{\\bf k} = \\frac{k^2}{2}\n",
    "$$"
   ]
  },
  {
   "cell_type": "code",
   "execution_count": null,
   "metadata": {
    "id": "gyBelNxVD4ld"
   },
   "outputs": [],
   "source": [
    "ng0 = 10\n",
    "nb = 1\n",
    "ng = numpy.array([ng0, ng0, ng0])\n",
    "eig = numpy.empty([ng[0], ng[1], ng[2], nb], dtype=numpy.float_)\n",
    "for i0 in range(ng[0]):\n",
    "    for i1 in range(ng[1]):\n",
    "        for i2 in range(ng[2]):\n",
    "            ikvec = numpy.array([i0, i1, i2])\n",
    "            for ii in range(3):\n",
    "                if ikvec[ii] * 2 >= ng[ii]:\n",
    "                    ikvec[ii] += - ng[ii]\n",
    "            kvec = ikvec[0:3] / ng[0:3]\n",
    "            kvec[0:3] = kvec.dot(bvec)\n",
    "            #\n",
    "            eig[i0, i1, i2, 0] = 0.5 * kvec.dot(kvec)"
   ]
  },
  {
   "cell_type": "markdown",
   "metadata": {
    "id": "Bax0I1hrs1k4"
   },
   "source": [
    "$$\n",
    "D(\\varepsilon) = \\int d^3 k \\delta(\\varepsilon - \\varepsilon_k) \\approx\n",
    "\\sum_k \\frac{V_{BZ}}{N_k} \\tilde{\\delta}(\\varepsilon - \\varepsilon_k)\n",
    "$$"
   ]
  },
  {
   "cell_type": "code",
   "execution_count": null,
   "metadata": {},
   "outputs": [],
   "source": [
    "vbz = abs(numpy.linalg.det(bvec))"
   ]
  },
  {
   "cell_type": "markdown",
   "metadata": {},
   "source": [
    "Reasonable choice of broadening width : Average change of enegy between neighboring grid point\n",
    "$$\n",
    "\\sigma = \\left \\langle |\\nabla_k \\varepsilon_k| \\right \\rangle \\Delta k\n",
    "=  \\left \\langle \\sqrt{2\\varepsilon_k} \\right \\rangle \\Delta k\n",
    "$$"
   ]
  },
  {
   "cell_type": "code",
   "execution_count": null,
   "metadata": {},
   "outputs": [],
   "source": [
    "sigma=numpy.sqrt(2.0*eig).mean()*2.0*k_max/ng0"
   ]
  },
  {
   "cell_type": "markdown",
   "metadata": {},
   "source": [
    "$$\n",
    "\\tilde{\\delta}(\\varepsilon)=\\frac{1}{\\sigma \\sqrt{\\pi}}\\exp\\left(-\\frac{\\varepsilon^2}{\\sigma^2}\\right)\n",
    "$$"
   ]
  },
  {
   "cell_type": "code",
   "execution_count": null,
   "metadata": {},
   "outputs": [],
   "source": [
    "e=numpy.linspace(0.0, e_max, 10)\n",
    "dos=numpy.empty(e.shape[0], dtype=numpy.float_)\n",
    "for ie in range(e.shape[0]):\n",
    "    dos[ie] = numpy.exp(-(e[ie]-eig)**2/sigma**2).mean()*vbz/(sigma*numpy.sqrt(numpy.pi))"
   ]
  },
  {
   "cell_type": "code",
   "execution_count": null,
   "metadata": {},
   "outputs": [],
   "source": [
    "import matplotlib.pyplot as plt"
   ]
  },
  {
   "cell_type": "markdown",
   "metadata": {},
   "source": [
    "Analytical value\n",
    "$$\n",
    "D(\\varepsilon) = \\int d^3 k \\delta(\\epsilon - \\varepsilon_k) = \n",
    "4 \\pi \\int_0^\\infty dk k^2 \\delta \\left(\\epsilon - \\frac{k^2}{2}\\right)\n",
    "=4 \\pi \\sqrt{2 \\varepsilon}.\n",
    "$$"
   ]
  },
  {
   "cell_type": "code",
   "execution_count": null,
   "metadata": {},
   "outputs": [],
   "source": [
    "e0=numpy.linspace(0.0, e_max, 100)\n",
    "dos0=4.0*numpy.pi*numpy.sqrt(2.0*e0)\n",
    "plt.plot(e0, dos0, label=\"Exact\")\n",
    "plt.plot(e, dos, label=\"Smearing\", linestyle=\"None\", marker=\"o\")\n",
    "plt.xlabel(\"Energy\")\n",
    "plt.ylabel(\"DOS\")\n",
    "plt.legend()\n",
    "plt.show()"
   ]
  },
  {
   "cell_type": "markdown",
   "metadata": {},
   "source": [
    "### 2.2, Tetrahedron method"
   ]
  },
  {
   "cell_type": "code",
   "execution_count": null,
   "metadata": {
    "id": "IjxVhoQXEAfW"
   },
   "outputs": [],
   "source": [
    "import libtetrabz"
   ]
  },
  {
   "cell_type": "code",
   "execution_count": null,
   "metadata": {},
   "outputs": [],
   "source": [
    "wght = libtetrabz.dos(bvec, eig, e)"
   ]
  },
  {
   "cell_type": "code",
   "execution_count": null,
   "metadata": {
    "id": "6Ne2FzwXEC4d"
   },
   "outputs": [],
   "source": [
    "dos_t = wght.sum(3).sum(2).sum(1).sum(0)*vbz"
   ]
  },
  {
   "cell_type": "code",
   "execution_count": null,
   "metadata": {},
   "outputs": [],
   "source": [
    "plt.plot(e0, dos0, label=\"Exact\")\n",
    "plt.plot(e, dos, label=\"Smearing\", linestyle=\"None\", marker=\"o\")\n",
    "plt.plot(e, dos_t, label=\"Tetrahedron\", linestyle=\"None\", marker=\"x\")\n",
    "plt.xlabel(\"Energy\")\n",
    "plt.ylabel(\"DOS\")\n",
    "plt.legend()\n",
    "plt.show()"
   ]
  },
  {
   "cell_type": "markdown",
   "metadata": {},
   "source": [
    "## 3, Lindhard function\n",
    "\n",
    "Next example is the calculation of polarization function. \n",
    "We again consider the simplest case, the free electrons system.\n",
    "$$\n",
    "\\chi(q) = \\int d^3 k \\frac{\\theta(\\varepsilon_{\\rm F} - \\varepsilon_k) - \\theta(\\varepsilon_{\\rm F} - \\varepsilon_{k+q})}{\\varepsilon_{k+q} - \\varepsilon_k}\n",
    "$$\n",
    "If we set $k_{\\rm F}=1$,\n",
    "$$\n",
    "\\chi(q) = 2 \\pi \\left(1 + \\frac{1 - q^2/4}{q} \\log\\left|\\frac{q+2}{q-2} \\right|\\right)\n",
    "$$"
   ]
  },
  {
   "cell_type": "code",
   "execution_count": null,
   "metadata": {
    "id": "lh1IHM8dENNW"
   },
   "outputs": [],
   "source": [
    "k_max = 1.5\n",
    "bvec = 2.0 * numpy.array([[k_max, 0.0, 0.0],\n",
    "                         [0.0, k_max, 0.0],\n",
    "                         [0.0, 0.0, k_max]])\n",
    "vbz = abs(numpy.linalg.det(bvec))"
   ]
  },
  {
   "cell_type": "code",
   "execution_count": null,
   "metadata": {
    "id": "9RBcyltzKpJD"
   },
   "outputs": [],
   "source": [
    "ng0 = 10\n",
    "nb = 1\n",
    "ng = numpy.array([ng0, ng0, ng0])"
   ]
  },
  {
   "cell_type": "code",
   "execution_count": null,
   "metadata": {
    "id": "Ldzbq-9FKrBU"
   },
   "outputs": [],
   "source": [
    "ef = 0.5\n",
    "qmax = 4.0"
   ]
  },
  {
   "cell_type": "code",
   "execution_count": null,
   "metadata": {
    "id": "qLD0eBJ7KszC"
   },
   "outputs": [],
   "source": [
    "qx = numpy.arange(0.0, qmax, 0.4)"
   ]
  },
  {
   "cell_type": "markdown",
   "metadata": {},
   "source": [
    "Reasonable choice of broadening width : Average change of enegy between neighboring grid point\n",
    "$$\n",
    "\\sigma = \\left \\langle |\\nabla_k \\varepsilon_k| \\right \\rangle \\Delta k\n",
    "=  \\left \\langle \\sqrt{2\\varepsilon_k} \\right \\rangle \\Delta k\n",
    "$$"
   ]
  },
  {
   "cell_type": "code",
   "execution_count": null,
   "metadata": {},
   "outputs": [],
   "source": [
    "eig = numpy.empty([ng[0], ng[1], ng[2], nb], dtype=numpy.float_)\n",
    "for i0 in range(ng[0]):\n",
    "    for i1 in range(ng[1]):\n",
    "        for i2 in range(ng[2]):\n",
    "            ikvec = numpy.array([i0, i1, i2])\n",
    "            for ii in range(3):\n",
    "                if ikvec[ii] * 2 >= ng[ii]:\n",
    "                    ikvec[ii] += - ng[ii]\n",
    "            kvec = ikvec[0:3] / ng[0:3]\n",
    "            kvec[0:3] = kvec.dot(bvec)\n",
    "            eig[i0, i1, i2, 0] = 0.5 * kvec.dot(kvec)\n",
    "sigma=numpy.sqrt(2.0*eig).mean()*2.0*k_max/ng0  "
   ]
  },
  {
   "cell_type": "markdown",
   "metadata": {},
   "source": [
    "Broadening method\n",
    "$$\n",
    "\\chi(q) = \\int d^3 k \\frac{\\tilde{\\theta}(\\varepsilon_{\\rm F} - \\varepsilon_k) - \\tilde{\\theta}(\\varepsilon_{\\rm F} - \\varepsilon_{k+q})}{\\varepsilon_{k+q} - \\varepsilon_k} \\\\\n",
    "\\tilde{\\theta}(\\varepsilon) = \\frac{\\rm{erfc}(-\\varepsilon/\\sigma)}{2}=\\frac{1}{\\sqrt{\\pi}}\\int_{-\\varepsilon}^\\infty dt \\exp \\left[-\\left(\\frac{t}{\\sigma}\\right)^2\\right] \\\\\n",
    "\\lim_{\\varepsilon_{k+q} \\rightarrow \\varepsilon_{k}}\\frac{\\tilde{\\theta}(\\varepsilon_{\\rm F} - \\varepsilon_k) - \\tilde{\\theta}(\\varepsilon_{\\rm F} - \\varepsilon_{k+q})}{\\varepsilon_{k+q} - \\varepsilon_k} = -\\tilde{\\delta}(\\varepsilon_{\\rm F} - \\varepsilon_{k+q})\n",
    "$$"
   ]
  },
  {
   "cell_type": "code",
   "execution_count": null,
   "metadata": {},
   "outputs": [],
   "source": [
    "import math\n",
    "chi_s = numpy.empty(qx.shape, dtype=numpy.float_)\n",
    "for iq in range(qx.shape[0]):\n",
    "    qvec = numpy.array([qx[iq], 0.0, 0.0])\n",
    "    chi_s[iq] = 0.0\n",
    "    for i0 in range(ng[0]):\n",
    "        for i1 in range(ng[1]):\n",
    "            for i2 in range(ng[2]):\n",
    "                ikvec = numpy.array([i0, i1, i2])\n",
    "                for ii in range(3):\n",
    "                    if ikvec[ii] * 2 >= ng[ii]:\n",
    "                        ikvec[ii] += - ng[ii]\n",
    "                kvec = ikvec[0:3] / ng[0:3]\n",
    "                kvec[0:3] = kvec.dot(bvec)\n",
    "                eig1 = 0.5 * kvec.dot(kvec) - ef\n",
    "                \n",
    "                kvec[0:3] += qvec[0:3]\n",
    "                eig2 = 0.5 * kvec.dot(kvec) - ef\n",
    "                \n",
    "                if abs(eig1 - eig2) < 1.0e-8:\n",
    "                    chi_s[iq] += numpy.exp(-eig1**2/sigma**2)/(sigma*numpy.sqrt(numpy.pi))\n",
    "                else:\n",
    "                    chi_s[iq] += 0.5*(math.erfc(eig1/sigma) - math.erfc(eig2/sigma))/(eig2 - eig1)\n",
    "    chi_s[iq] *= vbz / ng.prod(0)"
   ]
  },
  {
   "cell_type": "markdown",
   "metadata": {},
   "source": [
    "Tetrahedron method\n",
    "$$\n",
    "\\chi(q) = \\sum_{\\bf k} w_{\\bf k}(q) \\\\\n",
    "\\chi(0) = D(0)\n",
    "$$"
   ]
  },
  {
   "cell_type": "code",
   "execution_count": null,
   "metadata": {
    "id": "gs6Q1tFzKusG"
   },
   "outputs": [],
   "source": [
    "eig1 = numpy.empty([ng[0], ng[1], ng[2], nb], dtype=numpy.float_)\n",
    "eig2 = numpy.empty([ng[0], ng[1], ng[2], nb], dtype=numpy.float_)\n",
    "chi_t = numpy.empty(qx.shape, dtype=numpy.float_)\n",
    "for iq in range(qx.shape[0]):\n",
    "    qvec = numpy.array([qx[iq], 0.0, 0.0])\n",
    "    for i0 in range(ng[0]):\n",
    "        for i1 in range(ng[1]):\n",
    "            for i2 in range(ng[2]):\n",
    "                ikvec = numpy.array([i0, i1, i2])\n",
    "                for ii in range(3):\n",
    "                    if ikvec[ii] * 2 >= ng[ii]:\n",
    "                        ikvec[ii] += - ng[ii]\n",
    "                kvec = ikvec[0:3] / ng[0:3]\n",
    "                kvec[0:3] = kvec.dot(bvec)\n",
    "                eig1[i0, i1, i2, 0] = 0.5 * kvec.dot(kvec) - ef\n",
    "                \n",
    "                kvec[0:3] += qvec[0:3]\n",
    "                eig2[i0, i1, i2, 0] = 0.5 * kvec.dot(kvec) - ef\n",
    "    if iq == 0:\n",
    "        e0 = numpy.array([0.0])\n",
    "        wght = libtetrabz.dos(bvec, eig1, e0)\n",
    "        chi_t[iq] = wght.sum() * vbz\n",
    "    else:\n",
    "        wght = libtetrabz.polstat(bvec, eig1, eig2)\n",
    "        chi_t[iq] = wght.sum() * vbz * 2.0"
   ]
  },
  {
   "cell_type": "markdown",
   "metadata": {},
   "source": [
    "$$\n",
    "\\chi(q) = 2 \\pi \\left(1 + \\frac{1 - q^2/4}{q} \\log\\left|\\frac{q+2}{q-2} \\right|\\right)\n",
    "$$"
   ]
  },
  {
   "cell_type": "code",
   "execution_count": null,
   "metadata": {
    "id": "KQOcBHg5KzZq"
   },
   "outputs": [],
   "source": [
    "qx0 = numpy.arange(0.0, qmax, 0.011)\n",
    "chi0 = qx0.copy()\n",
    "for iq in range(qx0.shape[0]):\n",
    "    if qx0[iq] < 1.0e-8:\n",
    "        chi0[iq] = 4.0 * numpy.pi\n",
    "    elif abs(qx0[iq] - 2.0) < 1.0e-8:\n",
    "        chi0[iq] = 2.0 * numpy.pi\n",
    "    else:\n",
    "        chi0[iq] = 2.0 * numpy.pi*(1.0 + (1.0 - 0.25 * qx0[iq]**2) / qx0[iq] * numpy.log(numpy.abs((qx0[iq] + 2) / (qx0[iq] - 2))))"
   ]
  },
  {
   "cell_type": "code",
   "execution_count": null,
   "metadata": {
    "id": "IpGTnO8LK6lS"
   },
   "outputs": [],
   "source": [
    "plt.plot(qx0, chi0, label=\"Exact\")\n",
    "plt.plot(qx, chi_s, label=\"Smearing\", linestyle=\"None\", marker=\"o\")\n",
    "plt.plot(qx, chi_t, label=\"Tetrahedron\", linestyle=\"None\", marker=\"x\")\n",
    "plt.legend()\n",
    "plt.xlim(0)\n",
    "plt.ylim(0)\n",
    "plt.xlabel(\"$q / k_F$\")\n",
    "plt.ylabel(\"$\\chi(q)$\")\n",
    "plt.show()"
   ]
  },
  {
   "attachments": {
    "honeycomb-3.svg": {
     "image/svg+xml": [
      "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"
     ]
    }
   },
   "cell_type": "markdown",
   "metadata": {
    "id": "mo3GriM1K9UK"
   },
   "source": [
    "## 4, Multiband, low dimension, and partial DOS\n",
    "We caonsider the simple honeycomb lattice which has two orbitals (bands) in a unit cell.\n",
    "![honeycomb-3.svg](attachment:honeycomb-3.svg)"
   ]
  },
  {
   "cell_type": "code",
   "execution_count": null,
   "metadata": {},
   "outputs": [],
   "source": [
    "avec = numpy.array([[0.5*numpy.sqrt(3.0), 0.5, 0.0],\n",
    "                    [0.5*numpy.sqrt(3.0), -0.5, 0.0],\n",
    "                    [0.0, 0.0, 10.0]])\n",
    "bvec = 2.0 * numpy.pi*numpy.linalg.inv(avec.transpose())"
   ]
  },
  {
   "cell_type": "markdown",
   "metadata": {},
   "source": [
    "Set of ${\\bf R}=(l,m,n)$ and orbitals pair\n",
    "\n",
    "Corresponding hopping parameter"
   ]
  },
  {
   "cell_type": "code",
   "execution_count": null,
   "metadata": {},
   "outputs": [],
   "source": [
    "ham_indx = numpy.array([[0,  0, 0, 0, 1],\n",
    "                        [0,  0, 0, 1, 0],\n",
    "                        [-1, 0, 0, 0, 1],\n",
    "                        [1,  0, 0, 1, 0],\n",
    "                        [0, -1, 0, 0, 1],\n",
    "                        [0,  1, 0, 1, 0]])\n",
    "ham = numpy.array([-1.0, -1.0, -1.0, -1.0, -1.0, -1.0])"
   ]
  },
  {
   "cell_type": "markdown",
   "metadata": {},
   "source": [
    "Diagonalize\n",
    "$$\n",
    "H_{i j}({\\bf k}) = \\sum H_{i j} ({\\bf R}) \\exp(i{\\bf k}\\cdot{\\bf R})\n",
    "$$\n",
    "And compute projection ($|\\langle\\varphi_{n {\\bf k}} |\\varphi_{\\pm}\\rangle|^2$) onto bonding $|\\varphi_+\\rangle$ and anti-bonding $|\\varphi_-\\rangle$ orbitals, where\n",
    "$$\n",
    "|\\varphi_+\\rangle = \\frac{|\\varphi_A\\rangle + |\\varphi_B\\rangle}{\\sqrt{2}}\\\\\n",
    "|\\varphi_-\\rangle = \\frac{|\\varphi_A\\rangle - |\\varphi_B\\rangle}{\\sqrt{2}}\n",
    "$$"
   ]
  },
  {
   "cell_type": "code",
   "execution_count": null,
   "metadata": {},
   "outputs": [],
   "source": [
    "ng0 = 24\n",
    "nb = 2\n",
    "ng = numpy.array([ng0, ng0, 1])\n",
    "eig = numpy.empty([ng[0], ng[1], ng[2], nb], dtype=numpy.float_)\n",
    "proj = numpy.empty([ng[0], ng[1], ng[2], nb, nb], dtype=numpy.float_)\n",
    "wfc0 = numpy.array([[1.0, 1.0],\n",
    "                    [1.0, -1.0]]) / numpy.sqrt(2.0)\n",
    "for i0 in range(ng[0]):\n",
    "    for i1 in range(ng[1]):\n",
    "        for i2 in range(ng[2]):\n",
    "            kvec = numpy.array([i0, i1, i2]) / ng[0:3]\n",
    "            ham_k = numpy.zeros([nb, nb], dtype=numpy.complex_)\n",
    "            for ih in range(ham.shape[0]):\n",
    "                ham_k[ham_indx[ih, 3], ham_indx[ih, 4]] += ham[ih]*numpy.exp(2.0j*numpy.pi*kvec.dot(ham_indx[ih, 0:3]))\n",
    "            eig[i0, i1, i2, :], ham_k = numpy.linalg.eigh(ham_k)\n",
    "            ham_k[:, :] = wfc0.dot(ham_k)\n",
    "            for ib in range(nb):\n",
    "                for iwfc in range(2):\n",
    "                    proj[i0, i1, i2, ib, iwfc] = ham_k[iwfc, ib].real**2 +  ham_k[iwfc, ib].imag**2"
   ]
  },
  {
   "cell_type": "code",
   "execution_count": null,
   "metadata": {
    "id": "2_6ggSgcD8ms"
   },
   "outputs": [],
   "source": [
    "e = numpy.linspace(-3, 3, 100)"
   ]
  },
  {
   "cell_type": "code",
   "execution_count": null,
   "metadata": {},
   "outputs": [],
   "source": [
    "wght = libtetrabz.dos(bvec, eig, e)"
   ]
  },
  {
   "cell_type": "code",
   "execution_count": null,
   "metadata": {},
   "outputs": [],
   "source": [
    "dos = wght.sum(3).sum(2).sum(1).sum(0)\n",
    "pdos = numpy.zeros([e.shape[0], 2], dtype=numpy.float_)\n",
    "for ie in range(e.shape[0]):\n",
    "    for iwfc in range(2):\n",
    "        pdos[ie, iwfc] = (wght[:,:,:,:,ie]*proj[:,:,:,:,iwfc]).sum()"
   ]
  },
  {
   "cell_type": "code",
   "execution_count": null,
   "metadata": {},
   "outputs": [],
   "source": [
    "plt.plot(e, dos, label=\"Total\")\n",
    "plt.plot(e, pdos[:, 0], label=\"Bonding\")\n",
    "plt.plot(e, pdos[:, 1], label=\"Anti\")\n",
    "plt.xlabel(\"Energy\")\n",
    "plt.ylabel(\"DOS\")\n",
    "plt.ylim(0)\n",
    "plt.legend()\n",
    "plt.show()"
   ]
  },
  {
   "cell_type": "markdown",
   "metadata": {},
   "source": [
    "## 5, Simple-cubic tight-binding model, Fermi energy and Fermi surface"
   ]
  },
  {
   "cell_type": "code",
   "execution_count": null,
   "metadata": {},
   "outputs": [],
   "source": [
    "bvec=numpy.array([[10.0,0.0,0.0],\n",
    "                 [0.0,10.0,0.0],\n",
    "                 [0.0,0.0,10.0]])"
   ]
  },
  {
   "cell_type": "markdown",
   "metadata": {},
   "source": [
    "Simple-cubic tight-binding model\n",
    "$$\n",
    "\\varepsilon_{\\bf k} = - \\{ \\cos(k_x) +\\cos(k_y) +\\cos(k_z) \\}\n",
    "$$"
   ]
  },
  {
   "cell_type": "code",
   "execution_count": null,
   "metadata": {},
   "outputs": [],
   "source": [
    "ng0 = 10\n",
    "nb = 1\n",
    "ng = numpy.array([ng0, ng0, ng0])\n",
    "eig = numpy.empty([ng[0], ng[1], ng[2], nb], dtype=numpy.float_)\n",
    "vf = numpy.empty([ng[0], ng[1], ng[2], nb], dtype=numpy.float_)\n",
    "for i0 in range(ng[0]):\n",
    "    for i1 in range(ng[1]):\n",
    "        for i2 in range(ng[2]):\n",
    "            kvec = 2.0*numpy.pi*numpy.array([i0, i1, i2]) / ng[0:3]\n",
    "            eig[i0, i1, i2, 0] = - numpy.cos(kvec).sum(0)\n",
    "            vf[i0, i1, i2, 0] = numpy.sqrt((numpy.sin(kvec)**2).sum(0))"
   ]
  },
  {
   "cell_type": "code",
   "execution_count": null,
   "metadata": {},
   "outputs": [],
   "source": [
    "e=numpy.linspace(-3, 3, 100)"
   ]
  },
  {
   "cell_type": "code",
   "execution_count": null,
   "metadata": {},
   "outputs": [],
   "source": [
    "wght=libtetrabz.dos(bvec,eig,e)"
   ]
  },
  {
   "cell_type": "code",
   "execution_count": null,
   "metadata": {},
   "outputs": [],
   "source": [
    "dos=wght.sum(3).sum(2).sum(1).sum(0)"
   ]
  },
  {
   "cell_type": "code",
   "execution_count": null,
   "metadata": {},
   "outputs": [],
   "source": [
    "plt.plot(e, dos)\n",
    "plt.xlabel(\"Energy\")\n",
    "plt.ylabel(\"DOS\")\n",
    "plt.ylim(0)\n",
    "plt.show()"
   ]
  },
  {
   "cell_type": "code",
   "execution_count": null,
   "metadata": {},
   "outputs": [],
   "source": [
    "ef, wght, iteration=libtetrabz.fermieng(bvec, eig, 0.5)"
   ]
  },
  {
   "cell_type": "code",
   "execution_count": null,
   "metadata": {},
   "outputs": [],
   "source": [
    "wght.sum(), ef, iteration"
   ]
  },
  {
   "cell_type": "code",
   "execution_count": null,
   "metadata": {},
   "outputs": [],
   "source": [
    "with open(\"sc.frmsf\", \"w\") as f:\n",
    "    print(ng[0], ng[1], ng[2], file=f)\n",
    "    print(1, file=f)\n",
    "    print(nb, file=f)\n",
    "    for ii in range(3):\n",
    "        print(bvec[ii, 0], bvec[ii, 1], bvec[ii, 2], file=f)\n",
    "    for ib in range(nb):\n",
    "        for i0 in range(ng[0]):\n",
    "            for i1 in range(ng[1]):\n",
    "                for i2 in range(ng[2]):\n",
    "                    print(eig[i0, i1, i2, ib]-ef, file=f)\n",
    "    for ib in range(nb):\n",
    "        for i0 in range(ng[0]):\n",
    "            for i1 in range(ng[1]):\n",
    "                for i2 in range(ng[2]):\n",
    "                    print(vf[i0, i1, i2, ib], file=f)"
   ]
  }
 ],
 "metadata": {
  "colab": {
   "collapsed_sections": [],
   "name": "libtetrabz_tutorial.ipynb",
   "provenance": []
  },
  "kernelspec": {
   "display_name": "Python 3 (ipykernel)",
   "language": "python",
   "name": "python3"
  },
  "language_info": {
   "codemirror_mode": {
    "name": "ipython",
    "version": 3
   },
   "file_extension": ".py",
   "mimetype": "text/x-python",
   "name": "python",
   "nbconvert_exporter": "python",
   "pygments_lexer": "ipython3",
   "version": "3.8.10"
  }
 },
 "nbformat": 4,
 "nbformat_minor": 1
}
